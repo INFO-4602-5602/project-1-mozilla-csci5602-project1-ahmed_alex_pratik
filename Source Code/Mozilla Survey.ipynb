{
 "cells": [
  {
   "cell_type": "markdown",
   "metadata": {},
   "source": [
    "# Mozilla Survey"
   ]
  },
  {
   "cell_type": "code",
   "execution_count": 1,
   "metadata": {},
   "outputs": [],
   "source": [
    "import pandas as pd\n",
    "import numpy as np\n",
    "from bokeh.io import output_notebook, output_file, show\n",
    "from bokeh.plotting import figure\n",
    "from bokeh.models import ColumnDataSource, CustomJS\n",
    "\n",
    "#output_notebook()\n",
    "output_file(\"mozilla_survey.html\")"
   ]
  },
  {
   "cell_type": "code",
   "execution_count": 2,
   "metadata": {},
   "outputs": [
    {
     "name": "stderr",
     "output_type": "stream",
     "text": [
      "/usr/local/lib/python3.7/site-packages/IPython/core/interactiveshell.py:3058: DtypeWarning: Columns (24,25,26,27,28,29,30,31,32,33) have mixed types. Specify dtype option on import or set low_memory=False.\n",
      "  interactivity=interactivity, compiler=compiler, result=result)\n"
     ]
    }
   ],
   "source": [
    "# sanitize data\n",
    "data = pd.read_csv('SurveyExport.csv',encoding = 'unicode_escape')\n",
    "\n",
    "# get column names\n",
    "for col in data:\n",
    "    if 'trust' in col:\n",
    "        trust_col = col\n",
    "    if col.startswith('Privacy'):\n",
    "        privacy_col = col\n",
    "    if col.startswith('Security'):\n",
    "        security_col = col\n",
    "    if col.startswith('Safety'):\n",
    "        safety_col = col\n",
    "\n",
    "# new df for terms and connected devices\n",
    "terms_df = data.iloc[:, 34:44]\n",
    "devices_df = data.iloc[:, 8:19]\n",
    "# hot encoding 0-1\n",
    "terms_df = terms_df.notnull().astype('int')\n",
    "devices_df = devices_df.notnull().astype('int')\n",
    "\n",
    "# required columns\n",
    "country = data['Country'].replace(r'\\s*$', '', regex=True)\n",
    "tech_savvy = data['I consider myself:']\n",
    "trust = data[trust_col]\n",
    "imp_privacy = data[privacy_col].replace(r'\\s*$', np.nan, regex=True).dropna()\n",
    "imp_security = data[security_col].replace(r'\\s*$', np.nan, regex=True).dropna()\n",
    "imp_safety = data[safety_col].replace(r'\\s*$', np.nan, regex=True).dropna()\n",
    "terms = terms_df.sum(axis=1).rename('terms')\n",
    "connected_devices = devices_df.sum(axis=1).rename('connected devices')\n",
    "\n",
    "imp_privacy = pd.to_numeric(imp_privacy)\n",
    "imp_security = pd.to_numeric(imp_security)\n",
    "imp_safety = pd.to_numeric(imp_safety)\n",
    "imp = (imp_privacy + imp_security + imp_safety)/3\n",
    "\n",
    "frame ={\n",
    "    'country' : country,\n",
    "    'tech_savvy' : tech_savvy,\n",
    "    'trust' : trust,\n",
    "    'imp_privacy' : imp_privacy,\n",
    "    'imp_security' : imp_security,\n",
    "    'imp_safety' : imp_safety,\n",
    "    'imp' : imp,\n",
    "    'terms': terms,\n",
    "    'connected_devices' : connected_devices\n",
    "}\n",
    "df = pd.DataFrame(frame)"
   ]
  },
  {
   "cell_type": "code",
   "execution_count": 3,
   "metadata": {},
   "outputs": [],
   "source": [
    "tech_savvy_val = list(tech_savvy.dropna().unique())\n",
    "tech_savvy_mapping = dict(zip(tech_savvy_val, range(len(tech_savvy_val),-1,-1)))\n",
    "df['tech_savvy'] = df['tech_savvy'].map(tech_savvy_mapping)"
   ]
  },
  {
   "cell_type": "markdown",
   "metadata": {},
   "source": [
    "**Importance of Privacy** vs **Number of Online Connected Devices**  \n",
    "  \n",
    "Here we are comparing the the level of importance of privacy, security and safety for a user with the number of connected devices he/she owns.\n"
   ]
  },
  {
   "cell_type": "code",
   "execution_count": 4,
   "metadata": {
    "scrolled": false
   },
   "outputs": [],
   "source": [
    "imp = df.groupby(country)['imp'].mean()\n",
    "devices = df.groupby(country)['connected_devices'].mean()\n",
    "tech = df.groupby(country)['tech_savvy'].mean()\n",
    "_count = df.groupby(country)['tech_savvy'].count()\n",
    "_country = list(df.country.dropna().unique())\n",
    "\n",
    "source = ColumnDataSource(data={'x':devices,\n",
    "                                'y':imp,\n",
    "                                'z':tech,\n",
    "                                'z_2':tech * 2,\n",
    "                                'country': _country,\n",
    "                                'count':_count})\n",
    "\n",
    "TIPS = [(\"Country\",\"@country\"),\n",
    "        (\"# Responses\",\"@count\"),\n",
    "        (\"Online connected devices\", \"@x\"),\n",
    "        (\"Importance of Privacy, Security and Safety\",\"@y\"),\n",
    "        (\"Technolgy Savviness score\",\"@z\")]\n",
    "\n",
    "p = figure(title=\"Importance of Privacy, Security, and Safety vs. Number of Connective Devices Owned\",\n",
    "           sizing_mode='stretch_both', \n",
    "           match_aspect=True, \n",
    "           tooltips=TIPS,\n",
    "           toolbar_location='below')\n",
    "\n",
    "p.circle('x', 'y', size='z_2',source=source)\n",
    "\n",
    "p.title.align = 'center'\n",
    "p.xaxis.axis_label = \"Number of Connected Devices\"\n",
    "p.yaxis.axis_label = \"Importance of Privacy, Security and Safety\"\n",
    "\n",
    "show(p)"
   ]
  },
  {
   "cell_type": "code",
   "execution_count": null,
   "metadata": {},
   "outputs": [],
   "source": [
    "from bokeh.models import LinearColorMapper, BasicTicker, PrintfTickFormatter, ColorBar, Title, Label\n",
    "from bokeh.layouts import row, column\n",
    "from bokeh.palettes import Blues,Viridis256\n",
    "\n",
    "test = df.groupby(['connected_devices','trust']).count()\n",
    "_count = test['country']\n",
    "df['connected_devices'] = df['connected_devices'].astype(str)\n",
    "_devices = list(df.connected_devices.unique())\n",
    "_devices.sort(key = int)\n",
    "_trust = list(df.trust.dropna().unique())\n",
    "\n",
    "_tech_savvy = df.groupby(['connected_devices','trust'])['tech_savvy'].mean()\n",
    "_tech_savvy_matrix = pd.DataFrame(_tech_savvy).reset_index()\n",
    "_tech_savvy = df.groupby(['connected_devices','trust'])['tech_savvy'].count()\n",
    "_tech_savvy_count = pd.DataFrame(_tech_savvy).reset_index()\n",
    "\n",
    "source = ColumnDataSource(data={'x':_tech_savvy_matrix.connected_devices,\n",
    "                                'y':_tech_savvy_matrix.trust,\n",
    "                                'z':_tech_savvy_matrix.tech_savvy,\n",
    "                                'count':_tech_savvy_count.tech_savvy})\n",
    "\n",
    "TIPS = [('# Responses','@count'),(\"Technology Savviness score\", \"@z\")]\n",
    "\n",
    "mapper = LinearColorMapper(palette=Viridis256, \n",
    "                           low=_tech_savvy_matrix.tech_savvy.min(), \n",
    "                           high=4)\n",
    "\n",
    "p = figure(title=\"Trust vs Knowledge\",\n",
    "           x_range=_devices, \n",
    "           y_range=_trust,\n",
    "           x_axis_location=\"below\", \n",
    "           sizing_mode='stretch_both',\n",
    "           toolbar_location='below',\n",
    "           tooltips=TIPS)\n",
    "\n",
    "p.title.align = 'center'\n",
    "p.xaxis.axis_label = 'Number of online connected devices'\n",
    "p.yaxis.axis_label = 'Whom to trust?'\n",
    "p.axis.major_label_text_font_size = \"8pt\"\n",
    "p.axis.major_label_standoff = 0\n",
    "\n",
    "p.rect(x=\"x\", \n",
    "       y=\"y\", \n",
    "       width=1, \n",
    "       height=1,\n",
    "       source=source,\n",
    "       fill_color={'field': 'z', 'transform': mapper},\n",
    "       line_color=None)\n",
    "\n",
    "color_bar = ColorBar(color_mapper=mapper, major_label_text_font_size=\"8pt\", location=(0, 0))\n"
   ]
  },
  {
   "cell_type": "code",
   "execution_count": null,
   "metadata": {},
   "outputs": [],
   "source": [
    "p.add_layout(color_bar, \"right\")\n",
    "p.add_layout(Title(text=\"Technology Savviness\", align=\"center\"), \"right\")\n",
    "\n",
    "show(p)"
   ]
  }
 ],
 "metadata": {
  "kernelspec": {
   "display_name": "Python 3",
   "language": "python",
   "name": "python3"
  },
  "language_info": {
   "codemirror_mode": {
    "name": "ipython",
    "version": 3
   },
   "file_extension": ".py",
   "mimetype": "text/x-python",
   "name": "python",
   "nbconvert_exporter": "python",
   "pygments_lexer": "ipython3",
   "version": "3.7.4"
  }
 },
 "nbformat": 4,
 "nbformat_minor": 2
}
